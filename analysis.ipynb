{
 "cells": [
  {
   "cell_type": "code",
   "execution_count": 21,
   "id": "a0010a77",
   "metadata": {},
   "outputs": [],
   "source": [
    "import os\n",
    "import pandas as pd\n",
    "import math"
   ]
  },
  {
   "cell_type": "code",
   "execution_count": 10,
   "id": "618109eb",
   "metadata": {},
   "outputs": [],
   "source": [
    "main_dirs = [f'experiments/{dir}' for dir in os.listdir('experiments') if dir.startswith(\"frame\")]"
   ]
  },
  {
   "cell_type": "code",
   "execution_count": 12,
   "id": "d6e36a30",
   "metadata": {},
   "outputs": [],
   "source": [
    "paths = []\n",
    "for parent in main_dirs:\n",
    "    paths.extend(f'{parent}/{file}' for file in os.listdir(parent) if '.csv' in file)"
   ]
  },
  {
   "cell_type": "code",
   "execution_count": 15,
   "id": "6660f11b",
   "metadata": {},
   "outputs": [],
   "source": [
    "data = pd.DataFrame()\n",
    "for p in paths:\n",
    "    df = pd.read_csv(p)\n",
    "    data = pd.concat([data, df])"
   ]
  },
  {
   "cell_type": "code",
   "execution_count": 24,
   "id": "f0e9a9da",
   "metadata": {},
   "outputs": [
    {
     "data": {
      "text/html": [
       "<div>\n",
       "<style scoped>\n",
       "    .dataframe tbody tr th:only-of-type {\n",
       "        vertical-align: middle;\n",
       "    }\n",
       "\n",
       "    .dataframe tbody tr th {\n",
       "        vertical-align: top;\n",
       "    }\n",
       "\n",
       "    .dataframe thead th {\n",
       "        text-align: right;\n",
       "    }\n",
       "</style>\n",
       "<table border=\"1\" class=\"dataframe\">\n",
       "  <thead>\n",
       "    <tr style=\"text-align: right;\">\n",
       "      <th></th>\n",
       "      <th>Iteration</th>\n",
       "      <th>Experiment</th>\n",
       "      <th>Time</th>\n",
       "      <th>Objective</th>\n",
       "      <th>Columns</th>\n",
       "      <th>Difference</th>\n",
       "      <th>RMP_time</th>\n",
       "      <th>Graph_time</th>\n",
       "      <th>SPFA_time</th>\n",
       "      <th>Filter_time</th>\n",
       "      <th>Iteration_time</th>\n",
       "    </tr>\n",
       "  </thead>\n",
       "  <tbody>\n",
       "  </tbody>\n",
       "</table>\n",
       "</div>"
      ],
      "text/plain": [
       "Empty DataFrame\n",
       "Columns: [Iteration, Experiment, Time, Objective, Columns, Difference, RMP_time, Graph_time, SPFA_time, Filter_time, Iteration_time]\n",
       "Index: []"
      ]
     },
     "execution_count": 24,
     "metadata": {},
     "output_type": "execute_result"
    }
   ],
   "source": [
    "data[(data.Difference != math.inf) & (data.Difference > 0)]"
   ]
  },
  {
   "cell_type": "code",
   "execution_count": null,
   "id": "7ee6ff8e",
   "metadata": {},
   "outputs": [],
   "source": []
  }
 ],
 "metadata": {
  "kernelspec": {
   "display_name": "venv (3.12.9)",
   "language": "python",
   "name": "python3"
  },
  "language_info": {
   "codemirror_mode": {
    "name": "ipython",
    "version": 3
   },
   "file_extension": ".py",
   "mimetype": "text/x-python",
   "name": "python",
   "nbconvert_exporter": "python",
   "pygments_lexer": "ipython3",
   "version": "3.12.9"
  }
 },
 "nbformat": 4,
 "nbformat_minor": 5
}
